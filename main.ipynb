{
 "cells": [
  {
   "cell_type": "markdown",
   "metadata": {},
   "source": [
    "##### Pacotes Necessários "
   ]
  },
  {
   "cell_type": "code",
   "execution_count": 90,
   "metadata": {},
   "outputs": [],
   "source": [
    "import psycopg2\n",
    "import pandas as pd\n",
    "from configparser import ConfigParser"
   ]
  },
  {
   "cell_type": "markdown",
   "metadata": {},
   "source": [
    "##### Conexão com a Base de Dados"
   ]
  },
  {
   "cell_type": "code",
   "execution_count": 18,
   "metadata": {},
   "outputs": [],
   "source": [
    "# Função para configuração de conexão com parâmetros de acesso presentes no arquivo database.ini\n",
    "# Transforma o arquivo em uma variável de objeto\n",
    "def config(filename='database.ini', section='postgresql'):\n",
    "    \n",
    "    parser = ConfigParser()\n",
    "    parser.read(filename)\n",
    "\n",
    "    db = {}\n",
    "    if parser.has_section(section):\n",
    "        params = parser.items(section)\n",
    "        for param in params:\n",
    "            db[param[0]] = param[1]\n",
    "    else:\n",
    "        raise Exception('Section {0} not found in the {1} file'.format(section, filename))\n",
    "    return db"
   ]
  },
  {
   "cell_type": "code",
   "execution_count": 67,
   "metadata": {},
   "outputs": [
    {
     "name": "stdout",
     "output_type": "stream",
     "text": [
      "Conexão encerrada.\n"
     ]
    }
   ],
   "source": [
    "def connect():\n",
    "    conn = None\n",
    "    try:\n",
    "        params = config()\n",
    "        conn = psycopg2.connect(**params)\n",
    "        cursor = conn.cursor()\n",
    "\n",
    "        retorno = []\n",
    "\n",
    "        cursor.execute('SELECT * FROM forms')\n",
    "        forms = cursor.fetchall()\n",
    "        cursor.execute(\"SELECT column_name FROM INFORMATION_SCHEMA.COLUMNS WHERE TABLE_NAME = 'forms'\")\n",
    "        colunas = cursor.fetchall()\n",
    "        retorno.append([forms, colunas])\n",
    "        cursor.execute('SELECT * FROM orders')\n",
    "\n",
    "        orders = cursor.fetchall()\n",
    "        cursor.execute(\"SELECT column_name FROM INFORMATION_SCHEMA.COLUMNS WHERE TABLE_NAME = 'orders'\")\n",
    "        colunas = cursor.fetchall()\n",
    "        retorno.append([orders, colunas])\n",
    "\n",
    "        cursor.execute('SELECT * FROM order_items')\n",
    "        items = cursor.fetchall()\n",
    "        cursor.execute(\"SELECT column_name FROM INFORMATION_SCHEMA.COLUMNS WHERE TABLE_NAME = 'order_items'\")\n",
    "        colunas = cursor.fetchall()\n",
    "        retorno.append([items, colunas])\n",
    "\n",
    "        cursor.close()\n",
    "        return retorno\n",
    "    except (Exception, psycopg2.DatabaseError) as error:\n",
    "        print(error)\n",
    "    finally:\n",
    "        if conn is not None:\n",
    "            conn.close()\n",
    "            print('Conexão encerrada.')\n",
    "\n",
    "\n",
    "if __name__ == '__main__':\n",
    "    retorno = connect()"
   ]
  },
  {
   "cell_type": "code",
   "execution_count": 116,
   "metadata": {},
   "outputs": [],
   "source": [
    "forms = pd.DataFrame(retorno[0][0]).dropna()\n",
    "forms.columns = [item for sublist in retorno[0][1] for item in sublist]\n",
    "\n",
    "orders = pd.DataFrame(retorno[1][0]).dropna()\n",
    "orders.columns = [item for sublist in retorno[1][1] for item in sublist]\n",
    "\n",
    "items = pd.DataFrame(retorno[2][0]).dropna()\n",
    "items.columns = [item for sublist in retorno[2][1] for item in sublist]"
   ]
  },
  {
   "cell_type": "code",
   "execution_count": null,
   "metadata": {},
   "outputs": [],
   "source": []
  }
 ],
 "metadata": {
  "kernelspec": {
   "display_name": "Python 3.8.5 64-bit",
   "language": "python",
   "name": "python3"
  },
  "language_info": {
   "codemirror_mode": {
    "name": "ipython",
    "version": 3
   },
   "file_extension": ".py",
   "mimetype": "text/x-python",
   "name": "python",
   "nbconvert_exporter": "python",
   "pygments_lexer": "ipython3",
   "version": "3.8.5"
  },
  "orig_nbformat": 4,
  "vscode": {
   "interpreter": {
    "hash": "9b8ea942591382cb349c47f393817917b88af7f8f0c02d4ffa9a41f75aaebb44"
   }
  }
 },
 "nbformat": 4,
 "nbformat_minor": 2
}
