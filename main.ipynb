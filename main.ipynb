{
 "cells": [
  {
   "cell_type": "markdown",
   "metadata": {},
   "source": [
    "##### Pacotes Necessários "
   ]
  },
  {
   "cell_type": "code",
<<<<<<< HEAD
   "execution_count": 90,
=======
   "execution_count": 127,
>>>>>>> d809342cd4a2ad786d87c25ee1148f4ac86f1c52
   "metadata": {},
   "outputs": [],
   "source": [
    "import psycopg2\n",
    "import pandas as pd\n",
    "from configparser import ConfigParser"
   ]
  },
  {
   "cell_type": "markdown",
   "metadata": {},
   "source": [
    "##### Conexão com a Base de Dados"
   ]
  },
  {
   "cell_type": "code",
<<<<<<< HEAD
   "execution_count": 18,
=======
   "execution_count": 128,
>>>>>>> d809342cd4a2ad786d87c25ee1148f4ac86f1c52
   "metadata": {},
   "outputs": [],
   "source": [
    "# Função para configuração de conexão com parâmetros de acesso presentes no arquivo database.ini\n",
    "# Transforma o arquivo em uma variável de objeto\n",
    "def config(filename='database.ini', section='postgresql'):\n",
    "    \n",
    "    parser = ConfigParser()\n",
    "    parser.read(filename)\n",
    "\n",
    "    db = {}\n",
    "    if parser.has_section(section):\n",
    "        params = parser.items(section)\n",
    "        for param in params:\n",
    "            db[param[0]] = param[1]\n",
    "    else:\n",
    "        raise Exception('Section {0} not found in the {1} file'.format(section, filename))\n",
    "    return db"
   ]
  },
  {
   "cell_type": "code",
<<<<<<< HEAD
   "execution_count": 67,
=======
   "execution_count": 129,
>>>>>>> d809342cd4a2ad786d87c25ee1148f4ac86f1c52
   "metadata": {},
   "outputs": [
    {
     "name": "stdout",
     "output_type": "stream",
     "text": [
      "Conexão encerrada.\n"
     ]
    }
   ],
   "source": [
    "def connect():\n",
    "    conn = None\n",
    "    try:\n",
    "        params = config()\n",
    "        conn = psycopg2.connect(**params)\n",
    "        cursor = conn.cursor()\n",
    "\n",
    "        retorno = []\n",
    "\n",
    "        cursor.execute('SELECT * FROM forms')\n",
    "        forms = cursor.fetchall()\n",
    "        cursor.execute(\"SELECT column_name FROM INFORMATION_SCHEMA.COLUMNS WHERE TABLE_NAME = 'forms'\")\n",
    "        colunas = cursor.fetchall()\n",
    "        retorno.append([forms, colunas])\n",
    "        cursor.execute('SELECT * FROM orders')\n",
    "\n",
    "        orders = cursor.fetchall()\n",
    "        cursor.execute(\"SELECT column_name FROM INFORMATION_SCHEMA.COLUMNS WHERE TABLE_NAME = 'orders'\")\n",
    "        colunas = cursor.fetchall()\n",
    "        retorno.append([orders, colunas])\n",
    "\n",
    "        cursor.execute('SELECT * FROM order_items')\n",
    "        items = cursor.fetchall()\n",
    "        cursor.execute(\"SELECT column_name FROM INFORMATION_SCHEMA.COLUMNS WHERE TABLE_NAME = 'order_items'\")\n",
    "        colunas = cursor.fetchall()\n",
    "        retorno.append([items, colunas])\n",
    "\n",
    "        cursor.close()\n",
    "        return retorno\n",
    "    except (Exception, psycopg2.DatabaseError) as error:\n",
    "        print(error)\n",
    "    finally:\n",
    "        if conn is not None:\n",
    "            conn.close()\n",
    "            print('Conexão encerrada.')\n",
    "\n",
    "\n",
    "if __name__ == '__main__':\n",
    "    retorno = connect()"
   ]
  },
  {
   "cell_type": "code",
<<<<<<< HEAD
   "execution_count": 116,
=======
   "execution_count": 130,
>>>>>>> d809342cd4a2ad786d87c25ee1148f4ac86f1c52
   "metadata": {},
   "outputs": [],
   "source": [
    "forms = pd.DataFrame(retorno[0][0]).dropna()\n",
    "forms.columns = [item for sublist in retorno[0][1] for item in sublist]\n",
    "\n",
    "orders = pd.DataFrame(retorno[1][0]).dropna()\n",
    "orders.columns = [item for sublist in retorno[1][1] for item in sublist]\n",
    "\n",
    "items = pd.DataFrame(retorno[2][0]).dropna()\n",
    "items.columns = [item for sublist in retorno[2][1] for item in sublist]"
   ]
  },
  {
   "cell_type": "code",
<<<<<<< HEAD
<<<<<<< HEAD
=======
   "execution_count": 120,
   "metadata": {},
   "outputs": [
    {
     "data": {
      "text/html": [
       "<div>\n",
       "<style scoped>\n",
       "    .dataframe tbody tr th:only-of-type {\n",
       "        vertical-align: middle;\n",
       "    }\n",
       "\n",
       "    .dataframe tbody tr th {\n",
       "        vertical-align: top;\n",
       "    }\n",
       "\n",
       "    .dataframe thead th {\n",
       "        text-align: right;\n",
       "    }\n",
       "</style>\n",
       "<table border=\"1\" class=\"dataframe\">\n",
       "  <thead>\n",
       "    <tr style=\"text-align: right;\">\n",
       "      <th></th>\n",
       "      <th>id_form</th>\n",
       "      <th>id_cliente</th>\n",
       "      <th>data</th>\n",
       "      <th>sistema_operacional</th>\n",
       "      <th>navegador</th>\n",
       "      <th>localizacao</th>\n",
       "      <th>locale</th>\n",
       "      <th>cidade</th>\n",
       "      <th>estado</th>\n",
       "      <th>qtde_lavagem_semana</th>\n",
       "      <th>...</th>\n",
       "      <th>tipo_fios</th>\n",
       "      <th>procedimentos</th>\n",
       "      <th>tempo_procedimento</th>\n",
       "      <th>dieta</th>\n",
       "      <th>atividade_fisica</th>\n",
       "      <th>frequencia_estresse</th>\n",
       "      <th>caracteristica</th>\n",
       "      <th>faixa_etaria</th>\n",
       "      <th>efeitos_desejados</th>\n",
       "      <th>fragancia</th>\n",
       "    </tr>\n",
       "  </thead>\n",
       "  <tbody>\n",
       "    <tr>\n",
       "      <th>4</th>\n",
       "      <td>ba73bdcc6c063ab08b533eae5505eb</td>\n",
       "      <td>636382f3f545eec3fe97</td>\n",
       "      <td>2022-01-07 11:44:31</td>\n",
       "      <td>Android</td>\n",
       "      <td>Chrome</td>\n",
       "      <td>Tijucas, Santa Catarina</td>\n",
       "      <td>BR</td>\n",
       "      <td>TIJUCAS</td>\n",
       "      <td>SANTA CATARINA</td>\n",
       "      <td>4</td>\n",
       "      <td>...</td>\n",
       "      <td>Rebeldes</td>\n",
       "      <td>Tintura</td>\n",
       "      <td>Há 1 semana</td>\n",
       "      <td>Celíaca</td>\n",
       "      <td>Sempre</td>\n",
       "      <td>Nunca</td>\n",
       "      <td>Característica 10</td>\n",
       "      <td>18 a 24</td>\n",
       "      <td>Efeito 7</td>\n",
       "      <td>Eucalipto</td>\n",
       "    </tr>\n",
       "    <tr>\n",
       "      <th>6</th>\n",
       "      <td>f3a35ae494f6c1441fbfbcf4fb9531</td>\n",
       "      <td>ba5ebf19e866fe93ef97</td>\n",
       "      <td>2022-01-11 08:22:25</td>\n",
       "      <td>Android</td>\n",
       "      <td>Chrome</td>\n",
       "      <td>Juazeiro do Norte, Ceara</td>\n",
       "      <td>BR</td>\n",
       "      <td>JUAZEIRO DO NORTE</td>\n",
       "      <td>CEARA</td>\n",
       "      <td>4</td>\n",
       "      <td>...</td>\n",
       "      <td>Rebeldes</td>\n",
       "      <td>Tintura</td>\n",
       "      <td>Há 1 semana</td>\n",
       "      <td>Nenhuma restrição</td>\n",
       "      <td>Raramente</td>\n",
       "      <td>Nunca</td>\n",
       "      <td>Característica 3</td>\n",
       "      <td>35 a 44</td>\n",
       "      <td>Efeito 7</td>\n",
       "      <td>Rosas</td>\n",
       "    </tr>\n",
       "    <tr>\n",
       "      <th>10</th>\n",
       "      <td>111ac4e91d0ce0da94ab9b7390ddc0</td>\n",
       "      <td>9d5169a3335e9796d0a7</td>\n",
       "      <td>2022-01-12 19:06:37</td>\n",
       "      <td>Android</td>\n",
       "      <td>Chrome</td>\n",
       "      <td>Medianeira, Parana</td>\n",
       "      <td>BR</td>\n",
       "      <td>MEDIANEIRA</td>\n",
       "      <td>PARANA</td>\n",
       "      <td>3</td>\n",
       "      <td>...</td>\n",
       "      <td>Rebeldes</td>\n",
       "      <td>Corte agressivo</td>\n",
       "      <td>Há 1 semana</td>\n",
       "      <td>Nenhuma restrição</td>\n",
       "      <td>Raramente</td>\n",
       "      <td>Uma vez por mês</td>\n",
       "      <td>Característica 5</td>\n",
       "      <td>25 a 34</td>\n",
       "      <td>Efeito 7</td>\n",
       "      <td>Flores do campo</td>\n",
       "    </tr>\n",
       "    <tr>\n",
       "      <th>13</th>\n",
       "      <td>0ba0756364f260e90cc92a5612d67e</td>\n",
       "      <td>5ebebb943d3746581e90</td>\n",
       "      <td>2022-01-13 13:40:52</td>\n",
       "      <td>Android</td>\n",
       "      <td>Chrome</td>\n",
       "      <td>Serrinha, Bahia</td>\n",
       "      <td>BR</td>\n",
       "      <td>SERRINHA</td>\n",
       "      <td>BAHIA</td>\n",
       "      <td>1</td>\n",
       "      <td>...</td>\n",
       "      <td>Pontas duplas</td>\n",
       "      <td>Todos acima</td>\n",
       "      <td>Há mais de 1 mês</td>\n",
       "      <td>Celíaca</td>\n",
       "      <td>Frequente</td>\n",
       "      <td>Uma vez por mês</td>\n",
       "      <td>Característica 3</td>\n",
       "      <td>18 a 24</td>\n",
       "      <td>Efeito 7</td>\n",
       "      <td>Eucalipto</td>\n",
       "    </tr>\n",
       "    <tr>\n",
       "      <th>23</th>\n",
       "      <td>6e4b64af0b5646264683dc783d0a1c</td>\n",
       "      <td>bdcfecf20d0abe543f9d</td>\n",
       "      <td>2022-01-20 17:54:52</td>\n",
       "      <td>iOS</td>\n",
       "      <td>Safari</td>\n",
       "      <td>Belo Horizonte, Minas Gerais</td>\n",
       "      <td>BR</td>\n",
       "      <td>BELO HORIZONTE</td>\n",
       "      <td>MINAS GERAIS</td>\n",
       "      <td>1</td>\n",
       "      <td>...</td>\n",
       "      <td>Rebeldes</td>\n",
       "      <td>Corte agressivo</td>\n",
       "      <td>Não houve procedimentos</td>\n",
       "      <td>Nenhuma restrição</td>\n",
       "      <td>Sempre</td>\n",
       "      <td>Nunca</td>\n",
       "      <td>Característica 1</td>\n",
       "      <td>11 a 17</td>\n",
       "      <td>Efeito 7</td>\n",
       "      <td>Eucalipto</td>\n",
       "    </tr>\n",
       "  </tbody>\n",
       "</table>\n",
       "<p>5 rows × 23 columns</p>\n",
       "</div>"
      ],
      "text/plain": [
       "                           id_form            id_cliente                data  \\\n",
       "4   ba73bdcc6c063ab08b533eae5505eb  636382f3f545eec3fe97 2022-01-07 11:44:31   \n",
       "6   f3a35ae494f6c1441fbfbcf4fb9531  ba5ebf19e866fe93ef97 2022-01-11 08:22:25   \n",
       "10  111ac4e91d0ce0da94ab9b7390ddc0  9d5169a3335e9796d0a7 2022-01-12 19:06:37   \n",
       "13  0ba0756364f260e90cc92a5612d67e  5ebebb943d3746581e90 2022-01-13 13:40:52   \n",
       "23  6e4b64af0b5646264683dc783d0a1c  bdcfecf20d0abe543f9d 2022-01-20 17:54:52   \n",
       "\n",
       "   sistema_operacional navegador                   localizacao locale  \\\n",
       "4              Android    Chrome       Tijucas, Santa Catarina     BR   \n",
       "6              Android    Chrome      Juazeiro do Norte, Ceara     BR   \n",
       "10             Android    Chrome            Medianeira, Parana     BR   \n",
       "13             Android    Chrome               Serrinha, Bahia     BR   \n",
       "23                 iOS    Safari  Belo Horizonte, Minas Gerais     BR   \n",
       "\n",
       "               cidade           estado  qtde_lavagem_semana  ...  \\\n",
       "4             TIJUCAS   SANTA CATARINA                    4  ...   \n",
       "6   JUAZEIRO DO NORTE            CEARA                    4  ...   \n",
       "10         MEDIANEIRA           PARANA                    3  ...   \n",
       "13           SERRINHA            BAHIA                    1  ...   \n",
       "23     BELO HORIZONTE     MINAS GERAIS                    1  ...   \n",
       "\n",
       "        tipo_fios    procedimentos       tempo_procedimento  \\\n",
       "4        Rebeldes          Tintura              Há 1 semana   \n",
       "6        Rebeldes          Tintura              Há 1 semana   \n",
       "10       Rebeldes  Corte agressivo              Há 1 semana   \n",
       "13  Pontas duplas      Todos acima         Há mais de 1 mês   \n",
       "23       Rebeldes  Corte agressivo  Não houve procedimentos   \n",
       "\n",
       "                dieta atividade_fisica frequencia_estresse     caracteristica  \\\n",
       "4             Celíaca           Sempre               Nunca  Característica 10   \n",
       "6   Nenhuma restrição        Raramente               Nunca   Característica 3   \n",
       "10  Nenhuma restrição        Raramente     Uma vez por mês   Característica 5   \n",
       "13            Celíaca        Frequente     Uma vez por mês   Característica 3   \n",
       "23  Nenhuma restrição           Sempre               Nunca   Característica 1   \n",
       "\n",
       "   faixa_etaria efeitos_desejados        fragancia  \n",
       "4       18 a 24          Efeito 7        Eucalipto  \n",
       "6       35 a 44          Efeito 7            Rosas  \n",
       "10      25 a 34          Efeito 7  Flores do campo  \n",
       "13      18 a 24          Efeito 7        Eucalipto  \n",
       "23      11 a 17          Efeito 7        Eucalipto  \n",
       "\n",
       "[5 rows x 23 columns]"
      ]
     },
     "execution_count": 120,
     "metadata": {},
     "output_type": "execute_result"
    }
   ],
   "source": [
    "forms.head()\n"
   ]
  },
  {
   "cell_type": "code",
   "execution_count": 118,
   "metadata": {},
   "outputs": [
    {
     "data": {
      "text/plain": [
       "(44651, 13)"
      ]
     },
     "execution_count": 118,
     "metadata": {},
     "output_type": "execute_result"
    }
   ],
   "source": [
    "orders.shape"
   ]
  },
  {
   "cell_type": "code",
   "execution_count": 119,
   "metadata": {},
   "outputs": [
    {
     "data": {
      "text/plain": [
       "(211663, 6)"
      ]
     },
     "execution_count": 119,
     "metadata": {},
     "output_type": "execute_result"
    }
   ],
   "source": [
    "items.shape"
   ]
  },
  {
   "cell_type": "code",
   "execution_count": 109,
   "metadata": {},
   "outputs": [
    {
     "data": {
      "text/html": [
       "<div>\n",
       "<style scoped>\n",
       "    .dataframe tbody tr th:only-of-type {\n",
       "        vertical-align: middle;\n",
       "    }\n",
       "\n",
       "    .dataframe tbody tr th {\n",
       "        vertical-align: top;\n",
       "    }\n",
       "\n",
       "    .dataframe thead th {\n",
       "        text-align: right;\n",
       "    }\n",
       "</style>\n",
       "<table border=\"1\" class=\"dataframe\">\n",
       "  <thead>\n",
       "    <tr style=\"text-align: right;\">\n",
       "      <th></th>\n",
       "      <th>id</th>\n",
       "      <th>id_pedido</th>\n",
       "      <th>id_form</th>\n",
       "      <th>id_produto</th>\n",
       "      <th>qtde</th>\n",
       "      <th>valor</th>\n",
       "    </tr>\n",
       "  </thead>\n",
       "  <tbody>\n",
       "    <tr>\n",
       "      <th>0</th>\n",
       "      <td>423803</td>\n",
       "      <td>dd7dd09eb757eab</td>\n",
       "      <td>62296554a44f818ced0d623434e26b</td>\n",
       "      <td>509d</td>\n",
       "      <td>2</td>\n",
       "      <td>74.95</td>\n",
       "    </tr>\n",
       "    <tr>\n",
       "      <th>1</th>\n",
       "      <td>423804</td>\n",
       "      <td>dd7dd09eb757eab</td>\n",
       "      <td>62296554a44f818ced0d623434e26b</td>\n",
       "      <td>e820</td>\n",
       "      <td>1</td>\n",
       "      <td>74.95</td>\n",
       "    </tr>\n",
       "    <tr>\n",
       "      <th>2</th>\n",
       "      <td>423805</td>\n",
       "      <td>dd7dd09eb757eab</td>\n",
       "      <td>62296554a44f818ced0d623434e26b</td>\n",
       "      <td>d346</td>\n",
       "      <td>2</td>\n",
       "      <td>59.90</td>\n",
       "    </tr>\n",
       "    <tr>\n",
       "      <th>3</th>\n",
       "      <td>423806</td>\n",
       "      <td>dd7dd09eb757eab</td>\n",
       "      <td>62296554a44f818ced0d623434e26b</td>\n",
       "      <td>d2e0</td>\n",
       "      <td>1</td>\n",
       "      <td>64.90</td>\n",
       "    </tr>\n",
       "    <tr>\n",
       "      <th>4</th>\n",
       "      <td>423807</td>\n",
       "      <td>46a72a1e08c387e</td>\n",
       "      <td>25e1f26f2ec67b0cbefde74337185a</td>\n",
       "      <td>509d</td>\n",
       "      <td>2</td>\n",
       "      <td>74.95</td>\n",
       "    </tr>\n",
       "  </tbody>\n",
       "</table>\n",
       "</div>"
      ],
      "text/plain": [
       "       id        id_pedido                         id_form id_produto  qtde  \\\n",
       "0  423803  dd7dd09eb757eab  62296554a44f818ced0d623434e26b       509d     2   \n",
       "1  423804  dd7dd09eb757eab  62296554a44f818ced0d623434e26b       e820     1   \n",
       "2  423805  dd7dd09eb757eab  62296554a44f818ced0d623434e26b       d346     2   \n",
       "3  423806  dd7dd09eb757eab  62296554a44f818ced0d623434e26b       d2e0     1   \n",
       "4  423807  46a72a1e08c387e  25e1f26f2ec67b0cbefde74337185a       509d     2   \n",
       "\n",
       "   valor  \n",
       "0  74.95  \n",
       "1  74.95  \n",
       "2  59.90  \n",
       "3  64.90  \n",
       "4  74.95  "
      ]
     },
     "execution_count": 109,
     "metadata": {},
     "output_type": "execute_result"
    }
   ],
   "source": [
    "items.head()"
   ]
  },
  {
   "cell_type": "code",
   "execution_count": 114,
   "metadata": {},
   "outputs": [
    {
     "data": {
      "text/plain": [
       "Index(['id_pedido', 'id_cliente', 'data_pedido', 'status_pagamento',\n",
       "       'tipo_pagamento', 'valor_total', 'valor_desconto', 'frete_gratis',\n",
       "       'cidade', 'estado', 'locale', 'utm_source', 'target'],\n",
       "      dtype='object')"
      ]
     },
     "execution_count": 114,
     "metadata": {},
     "output_type": "execute_result"
    }
   ],
   "source": [
    "orders.columns"
   ]
  },
  {
   "cell_type": "code",
   "execution_count": 113,
   "metadata": {},
   "outputs": [
    {
     "data": {
      "text/plain": [
       "Index(['id_form', 'id_cliente', 'data', 'sistema_operacional', 'navegador',\n",
       "       'localizacao', 'locale', 'cidade', 'estado', 'qtde_lavagem_semana',\n",
       "       'utm_source', 'tipo_cabelo', 'comprimento', 'tipo_fios',\n",
       "       'procedimentos', 'tempo_procedimento', 'dieta', 'atividade_fisica',\n",
       "       'frequencia_estresse', 'caracteristica', 'faixa_etaria',\n",
       "       'efeitos_desejados', 'fragancia'],\n",
       "      dtype='object')"
      ]
     },
     "execution_count": 113,
     "metadata": {},
     "output_type": "execute_result"
    }
   ],
   "source": [
    "forms.columns"
   ]
  },
  {
   "cell_type": "code",
>>>>>>> 177d9e558c64dd4de127ded12702314b635cd359
=======
>>>>>>> d809342cd4a2ad786d87c25ee1148f4ac86f1c52
   "execution_count": null,
   "metadata": {},
   "outputs": [],
   "source": []
  }
 ],
 "metadata": {
  "kernelspec": {
   "display_name": "Python 3.8.5 64-bit",
   "language": "python",
   "name": "python3"
  },
  "language_info": {
   "codemirror_mode": {
    "name": "ipython",
    "version": 3
   },
   "file_extension": ".py",
   "mimetype": "text/x-python",
   "name": "python",
   "nbconvert_exporter": "python",
   "pygments_lexer": "ipython3",
   "version": "3.8.5"
  },
  "orig_nbformat": 4,
  "vscode": {
   "interpreter": {
    "hash": "9b8ea942591382cb349c47f393817917b88af7f8f0c02d4ffa9a41f75aaebb44"
   }
  }
 },
 "nbformat": 4,
 "nbformat_minor": 2
}
