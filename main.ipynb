{
 "cells": [
  {
   "cell_type": "markdown",
   "metadata": {},
   "source": [
    "##### Pacotes Necessários "
   ]
  },
  {
   "cell_type": "code",
   "execution_count": 94,
   "metadata": {},
   "outputs": [],
   "source": [
    "import psycopg2\n",
    "import pandas as pd\n",
    "from configparser import ConfigParser"
   ]
  },
  {
   "cell_type": "markdown",
   "metadata": {},
   "source": [
    "##### Conexão com a Base e Extração de Dados"
   ]
  },
  {
   "cell_type": "code",
   "execution_count": 95,
   "metadata": {},
   "outputs": [],
   "source": [
    "# Função para configuração de conexão com parâmetros de acesso presentes no arquivo database.ini\n",
    "# Transforma o arquivo em uma variável de objeto\n",
    "def config(filename='database.ini', section='postgresql'):\n",
    "    \n",
    "    parser = ConfigParser()\n",
    "    parser.read(filename)\n",
    "\n",
    "    db = {}\n",
    "    if parser.has_section(section):\n",
    "        params = parser.items(section)\n",
    "        for param in params:\n",
    "            db[param[0]] = param[1]\n",
    "    else:\n",
    "        raise Exception('Seção {0} não encontrada no arquivo {1}'.format(section, filename))\n",
    "    return db"
   ]
  },
  {
   "cell_type": "code",
   "execution_count": 98,
   "metadata": {},
   "outputs": [
    {
     "name": "stdout",
     "output_type": "stream",
     "text": [
      "Conexão encerrada.\n"
     ]
    }
   ],
   "source": [
    "def connect():\n",
    "    conn = None\n",
    "    try:\n",
    "        params = config()\n",
    "        conn = psycopg2.connect(**params)\n",
    "        cursor = conn.cursor()\n",
    "\n",
    "        retorno = []\n",
    "\n",
    "        cursor.execute('SELECT * FROM forms')\n",
    "        forms = cursor.fetchall()\n",
    "        cursor.execute(\"SELECT column_name FROM INFORMATION_SCHEMA.COLUMNS WHERE TABLE_NAME = 'forms'\")\n",
    "        colunas = cursor.fetchall()\n",
    "        retorno.append([forms, colunas])\n",
    "\n",
    "        cursor.execute('SELECT * FROM orders')\n",
    "        orders = cursor.fetchall()\n",
    "        cursor.execute(\"SELECT column_name FROM INFORMATION_SCHEMA.COLUMNS WHERE TABLE_NAME = 'orders'\")\n",
    "        colunas = cursor.fetchall()\n",
    "        retorno.append([orders, colunas])\n",
    "\n",
    "        cursor.execute('SELECT * FROM order_items')\n",
    "        items = cursor.fetchall()\n",
    "        cursor.execute(\"SELECT column_name FROM INFORMATION_SCHEMA.COLUMNS WHERE TABLE_NAME = 'order_items'\")\n",
    "        colunas = cursor.fetchall()\n",
    "        retorno.append([items, colunas])\n",
    "\n",
    "        cursor.close()\n",
    "        return retorno\n",
    "    except (Exception, psycopg2.DatabaseError) as error:\n",
    "        print(error)\n",
    "    finally:\n",
    "        if conn is not None:\n",
    "            conn.close()\n",
    "            print('Conexão encerrada.')\n",
    "\n",
    "\n",
    "if __name__ == '__main__':\n",
    "    retorno = connect()"
   ]
  },
  {
   "cell_type": "code",
   "execution_count": 122,
   "metadata": {},
   "outputs": [],
   "source": [
    "forms = pd.DataFrame(retorno[0][0])\n",
    "forms.columns = [item for sublist in retorno[0][1] for item in sublist]\n",
    "\n",
    "orders = pd.DataFrame(retorno[1][0])\n",
    "orders.columns = [item for sublist in retorno[1][1] for item in sublist]\n",
    "\n",
    "order_items = pd.DataFrame(retorno[2][0])\n",
    "order_items.columns = [item for sublist in retorno[2][1] for item in sublist]"
   ]
  },
  {
   "cell_type": "markdown",
   "metadata": {},
   "source": [
    "##### Manipulação de dados"
   ]
  },
  {
   "cell_type": "code",
   "execution_count": 123,
   "metadata": {},
   "outputs": [],
   "source": [
    "# Remoção de colunas\n",
    "forms = forms.drop(['id_cliente','data','sistema_operacional','navegador','localizacao','locale','cidade','utm_source',\n",
    "'caracteristica','efeitos_desejados','tempo_procedimento'], axis = 1)\n",
    "\n",
    "orders = orders[['id_pedido','target']]\n",
    "\n",
    "order_items = order_items[['id_pedido','id_form']]"
   ]
  },
  {
   "cell_type": "code",
   "execution_count": 133,
   "metadata": {},
   "outputs": [],
   "source": [
    "# Selecionando apenas os valores únicos da coluna 'id_form' da tabela 'order_items'\n",
    "items_form = order_items.drop_duplicates(subset = ['id_form'])\n",
    "# Left join da tabela 'forms' com a 'items_form' seguido de left join da tabela resultante com a tabela 'orders'. \n",
    "# df é a base de dados resultante\n",
    "df = forms.merge(items_form, \n",
    "                 on = 'id_form', \n",
    "                 how = 'left').merge(orders, \n",
    "                                     on = 'id_pedido', \n",
    "                                     how = 'left').drop(['id_form','id_pedido'], axis = 1)"
   ]
  },
  {
   "cell_type": "code",
   "execution_count": 140,
   "metadata": {},
   "outputs": [],
   "source": [
    "# Lidando com NAs\n",
    "df.target.fillna(0, inplace = True)\n",
    "df.dropna(axis = 0, inplace = True)\n"
   ]
  },
  {
   "cell_type": "code",
   "execution_count": 176,
   "metadata": {},
   "outputs": [
    {
     "data": {
      "text/html": [
       "<div>\n",
       "<style scoped>\n",
       "    .dataframe tbody tr th:only-of-type {\n",
       "        vertical-align: middle;\n",
       "    }\n",
       "\n",
       "    .dataframe tbody tr th {\n",
       "        vertical-align: top;\n",
       "    }\n",
       "\n",
       "    .dataframe thead th {\n",
       "        text-align: right;\n",
       "    }\n",
       "</style>\n",
       "<table border=\"1\" class=\"dataframe\">\n",
       "  <thead>\n",
       "    <tr style=\"text-align: right;\">\n",
       "      <th></th>\n",
       "      <th>estado</th>\n",
       "      <th>qtde_lavagem_semana</th>\n",
       "      <th>tipo_cabelo</th>\n",
       "      <th>comprimento</th>\n",
       "      <th>tipo_fios</th>\n",
       "      <th>procedimentos</th>\n",
       "      <th>tempo_procedimento</th>\n",
       "      <th>dieta</th>\n",
       "      <th>atividade_fisica</th>\n",
       "      <th>frequencia_estresse</th>\n",
       "      <th>faixa_etaria</th>\n",
       "      <th>efeitos_desejados</th>\n",
       "      <th>fragancia</th>\n",
       "      <th>target</th>\n",
       "    </tr>\n",
       "  </thead>\n",
       "  <tbody>\n",
       "    <tr>\n",
       "      <th>0</th>\n",
       "      <td>0</td>\n",
       "      <td>4</td>\n",
       "      <td>Tipo 2</td>\n",
       "      <td>Raíz exposta</td>\n",
       "      <td>Pontas duplas</td>\n",
       "      <td>Nenhum</td>\n",
       "      <td>Há 2 semanas</td>\n",
       "      <td>Celíaca</td>\n",
       "      <td>Frequente</td>\n",
       "      <td>Nunca</td>\n",
       "      <td>25 a 34</td>\n",
       "      <td>Efeito 7</td>\n",
       "      <td>Rosas</td>\n",
       "      <td>1.0</td>\n",
       "    </tr>\n",
       "    <tr>\n",
       "      <th>1</th>\n",
       "      <td>0</td>\n",
       "      <td>7</td>\n",
       "      <td>Tipo 4</td>\n",
       "      <td>Muito curto</td>\n",
       "      <td>Perfeitos</td>\n",
       "      <td>Todos acima</td>\n",
       "      <td>Há mais de 1 mês</td>\n",
       "      <td>Nenhuma restrição</td>\n",
       "      <td>Nunca</td>\n",
       "      <td>Nunca</td>\n",
       "      <td>55 a 64</td>\n",
       "      <td>Efeito 1</td>\n",
       "      <td>Eucalipto</td>\n",
       "      <td>0.0</td>\n",
       "    </tr>\n",
       "    <tr>\n",
       "      <th>2</th>\n",
       "      <td>0</td>\n",
       "      <td>2</td>\n",
       "      <td>Tipo 1</td>\n",
       "      <td>Extra longo</td>\n",
       "      <td>Rebeldes</td>\n",
       "      <td>Todos acima</td>\n",
       "      <td>Há mais de 1 mês</td>\n",
       "      <td>Nenhuma restrição</td>\n",
       "      <td>Raramente</td>\n",
       "      <td>Regularmente</td>\n",
       "      <td>2 a 10</td>\n",
       "      <td>Efeito 7</td>\n",
       "      <td>Rosas</td>\n",
       "      <td>0.0</td>\n",
       "    </tr>\n",
       "    <tr>\n",
       "      <th>3</th>\n",
       "      <td>1</td>\n",
       "      <td>5</td>\n",
       "      <td>Tipo 1</td>\n",
       "      <td>Extra longo</td>\n",
       "      <td>Rebeldes</td>\n",
       "      <td>Todos acima</td>\n",
       "      <td>Há mais de 1 mês</td>\n",
       "      <td>Celíaca</td>\n",
       "      <td>Raramente</td>\n",
       "      <td>Regularmente</td>\n",
       "      <td>25 a 34</td>\n",
       "      <td>Efeito 7</td>\n",
       "      <td>Rosas</td>\n",
       "      <td>0.0</td>\n",
       "    </tr>\n",
       "    <tr>\n",
       "      <th>4</th>\n",
       "      <td>2</td>\n",
       "      <td>4</td>\n",
       "      <td>Tipo 3</td>\n",
       "      <td>Muito curto</td>\n",
       "      <td>Rebeldes</td>\n",
       "      <td>Tintura</td>\n",
       "      <td>Há 1 semana</td>\n",
       "      <td>Celíaca</td>\n",
       "      <td>Sempre</td>\n",
       "      <td>Nunca</td>\n",
       "      <td>18 a 24</td>\n",
       "      <td>Efeito 7</td>\n",
       "      <td>Eucalipto</td>\n",
       "      <td>0.0</td>\n",
       "    </tr>\n",
       "  </tbody>\n",
       "</table>\n",
       "</div>"
      ],
      "text/plain": [
       "   estado  qtde_lavagem_semana tipo_cabelo   comprimento      tipo_fios  \\\n",
       "0       0                    4      Tipo 2  Raíz exposta  Pontas duplas   \n",
       "1       0                    7      Tipo 4   Muito curto      Perfeitos   \n",
       "2       0                    2      Tipo 1   Extra longo       Rebeldes   \n",
       "3       1                    5      Tipo 1   Extra longo       Rebeldes   \n",
       "4       2                    4      Tipo 3   Muito curto       Rebeldes   \n",
       "\n",
       "  procedimentos tempo_procedimento              dieta atividade_fisica  \\\n",
       "0        Nenhum       Há 2 semanas            Celíaca        Frequente   \n",
       "1   Todos acima   Há mais de 1 mês  Nenhuma restrição            Nunca   \n",
       "2   Todos acima   Há mais de 1 mês  Nenhuma restrição        Raramente   \n",
       "3   Todos acima   Há mais de 1 mês            Celíaca        Raramente   \n",
       "4       Tintura        Há 1 semana            Celíaca           Sempre   \n",
       "\n",
       "  frequencia_estresse faixa_etaria efeitos_desejados  fragancia  target  \n",
       "0               Nunca      25 a 34          Efeito 7      Rosas     1.0  \n",
       "1               Nunca      55 a 64          Efeito 1  Eucalipto     0.0  \n",
       "2        Regularmente       2 a 10          Efeito 7      Rosas     0.0  \n",
       "3        Regularmente      25 a 34          Efeito 7      Rosas     0.0  \n",
       "4               Nunca      18 a 24          Efeito 7  Eucalipto     0.0  "
      ]
     },
     "execution_count": 176,
     "metadata": {},
     "output_type": "execute_result"
    }
   ],
   "source": [
    "# Transformação de variáveis\n",
    "df.estado = pd.factorize(df.estado)[0]\n",
    "df.tipo_cabelo = pd.factorize(df.tipo_cabelo)[0]"
   ]
  },
  {
   "cell_type": "code",
   "execution_count": null,
   "metadata": {},
   "outputs": [],
   "source": []
  },
  {
   "cell_type": "code",
   "execution_count": null,
   "metadata": {},
   "outputs": [],
   "source": []
  },
  {
   "cell_type": "code",
   "execution_count": 109,
   "metadata": {},
   "outputs": [],
   "source": [
    "teste3 = teste2.drop(['id_form','id_cliente_x','data','navegador','localizacao','locale_x','cidade_x', 'utm_source_x',\n",
    "'id','id_pedido', 'id_produto','qtde','valor','id_cliente_y','data_pedido','status_pagamento','tipo_pagamento',\n",
    " 'valor_total','valor_desconto','cidade_y','estado_y','locale_y','utm_source_y'], axis = 1)"
   ]
  },
  {
   "cell_type": "code",
   "execution_count": 110,
   "metadata": {},
   "outputs": [
    {
     "name": "stdout",
     "output_type": "stream",
     "text": [
      "<class 'pandas.core.frame.DataFrame'>\n",
      "Int64Index: 427950 entries, 0 to 427949\n",
      "Data columns (total 17 columns):\n",
      " #   Column               Non-Null Count   Dtype  \n",
      "---  ------               --------------   -----  \n",
      " 0   sistema_operacional  427950 non-null  object \n",
      " 1   estado_x             427752 non-null  object \n",
      " 2   qtde_lavagem_semana  427950 non-null  int64  \n",
      " 3   tipo_cabelo          427950 non-null  object \n",
      " 4   comprimento          427950 non-null  object \n",
      " 5   tipo_fios            427950 non-null  object \n",
      " 6   procedimentos        427950 non-null  object \n",
      " 7   tempo_procedimento   427950 non-null  object \n",
      " 8   dieta                427950 non-null  object \n",
      " 9   atividade_fisica     427950 non-null  object \n",
      " 10  frequencia_estresse  427950 non-null  object \n",
      " 11  caracteristica       427950 non-null  object \n",
      " 12  faixa_etaria         427950 non-null  object \n",
      " 13  efeitos_desejados    426971 non-null  object \n",
      " 14  fragancia            427950 non-null  object \n",
      " 15  frete_gratis         54141 non-null   object \n",
      " 16  target               54141 non-null   float64\n",
      "dtypes: float64(1), int64(1), object(15)\n",
      "memory usage: 58.8+ MB\n"
     ]
    }
   ],
   "source": [
    "teste3.info()"
   ]
  },
  {
   "cell_type": "code",
   "execution_count": null,
   "metadata": {},
   "outputs": [],
   "source": []
  }
 ],
 "metadata": {
  "kernelspec": {
   "display_name": "Python 3.8.5 64-bit",
   "language": "python",
   "name": "python3"
  },
  "language_info": {
   "codemirror_mode": {
    "name": "ipython",
    "version": 3
   },
   "file_extension": ".py",
   "mimetype": "text/x-python",
   "name": "python",
   "nbconvert_exporter": "python",
   "pygments_lexer": "ipython3",
   "version": "3.8.5"
  },
  "orig_nbformat": 4,
  "vscode": {
   "interpreter": {
    "hash": "9b8ea942591382cb349c47f393817917b88af7f8f0c02d4ffa9a41f75aaebb44"
   }
  }
 },
 "nbformat": 4,
 "nbformat_minor": 2
}
