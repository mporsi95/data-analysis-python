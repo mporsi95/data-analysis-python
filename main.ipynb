{
 "cells": [
  {
   "cell_type": "markdown",
   "metadata": {},
   "source": [
    "##### Pacotes Necessários "
   ]
  },
  {
   "cell_type": "code",
   "execution_count": null,
   "metadata": {},
   "outputs": [],
   "source": [
    "import psycopg2\n",
    "import pandas as pd\n",
    "from configparser import ConfigParser"
   ]
  },
  {
   "cell_type": "markdown",
   "metadata": {},
   "source": [
    "##### Conexão com a Base e Extração de Dados"
   ]
  },
  {
   "cell_type": "code",
   "execution_count": null,
   "metadata": {},
   "outputs": [],
   "source": [
    "# Função para configuração de conexão com parâmetros de acesso presentes no arquivo database.ini\n",
    "# Transforma o arquivo em uma variável de objeto\n",
    "def config(filename='database.ini', section='postgresql'):\n",
    "    \n",
    "    parser = ConfigParser()\n",
    "    parser.read(filename)\n",
    "\n",
    "    db = {}\n",
    "    if parser.has_section(section):\n",
    "        params = parser.items(section)\n",
    "        for param in params:\n",
    "            db[param[0]] = param[1]\n",
    "    else:\n",
    "        raise Exception('Seção {0} não encontrada no arquivo {1}'.format(section, filename))\n",
    "    return db"
   ]
  },
  {
   "cell_type": "code",
   "execution_count": null,
   "metadata": {},
   "outputs": [],
   "source": [
    "def connect():\n",
    "    conn = None\n",
    "    try:\n",
    "        params = config()\n",
    "        conn = psycopg2.connect(**params)\n",
    "        cursor = conn.cursor()\n",
    "\n",
    "        retorno = []\n",
    "\n",
    "        cursor.execute('SELECT * FROM forms')\n",
    "        forms = cursor.fetchall()\n",
    "        cursor.execute(\"SELECT column_name FROM INFORMATION_SCHEMA.COLUMNS WHERE TABLE_NAME = 'forms'\")\n",
    "        colunas = cursor.fetchall()\n",
    "        retorno.append([forms, colunas])\n",
    "\n",
    "        cursor.execute('SELECT * FROM orders')\n",
    "        orders = cursor.fetchall()\n",
    "        cursor.execute(\"SELECT column_name FROM INFORMATION_SCHEMA.COLUMNS WHERE TABLE_NAME = 'orders'\")\n",
    "        colunas = cursor.fetchall()\n",
    "        retorno.append([orders, colunas])\n",
    "\n",
    "        cursor.execute('SELECT * FROM order_items')\n",
    "        items = cursor.fetchall()\n",
    "        cursor.execute(\"SELECT column_name FROM INFORMATION_SCHEMA.COLUMNS WHERE TABLE_NAME = 'order_items'\")\n",
    "        colunas = cursor.fetchall()\n",
    "        retorno.append([items, colunas])\n",
    "\n",
    "        cursor.close()\n",
    "        return retorno\n",
    "    except (Exception, psycopg2.DatabaseError) as error:\n",
    "        print(error)\n",
    "    finally:\n",
    "        if conn is not None:\n",
    "            conn.close()\n",
    "            print('Conexão encerrada.')\n",
    "\n",
    "\n",
    "if __name__ == '__main__':\n",
    "    retorno = connect()"
   ]
  },
  {
   "cell_type": "code",
   "execution_count": null,
   "metadata": {},
   "outputs": [],
   "source": [
    "forms = pd.DataFrame(retorno[0][0])\n",
    "forms.columns = [item for sublist in retorno[0][1] for item in sublist]\n",
    "\n",
    "orders = pd.DataFrame(retorno[1][0])\n",
    "orders.columns = [item for sublist in retorno[1][1] for item in sublist]\n",
    "\n",
    "order_items = pd.DataFrame(retorno[2][0])\n",
    "order_items.columns = [item for sublist in retorno[2][1] for item in sublist]"
   ]
  },
  {
   "cell_type": "markdown",
   "metadata": {},
   "source": [
    "##### Manipulação de dados"
   ]
  },
  {
   "cell_type": "code",
   "execution_count": null,
   "metadata": {},
   "outputs": [],
   "source": [
    "# Remoção de colunas\n",
    "forms = forms.drop(['id_cliente','data','sistema_operacional','navegador','localizacao','locale','cidade','utm_source',\n",
    "'caracteristica','tempo_procedimento'], axis = 1)\n",
    "\n",
    "orders = orders[['id_pedido','target']]\n",
    "\n",
    "order_items = order_items[['id_pedido','id_form']]"
   ]
  },
  {
   "cell_type": "code",
   "execution_count": null,
   "metadata": {},
   "outputs": [],
   "source": [
    "# Selecionando apenas os valores únicos da coluna 'id_form' da tabela 'order_items'\n",
    "items_form = order_items.drop_duplicates(subset = ['id_form'])\n",
    "# Left join da tabela 'forms' com a 'items_form' seguido de left join da tabela resultante com a tabela 'orders'. \n",
    "# df é a base de dados resultante\n",
    "df = forms.merge(items_form, \n",
    "                 on = 'id_form', \n",
    "                 how = 'left').merge(orders, \n",
    "                                     on = 'id_pedido', \n",
    "                                     how = 'left').drop(['id_form','id_pedido'], axis = 1)"
   ]
  },
  {
   "cell_type": "code",
   "execution_count": null,
   "metadata": {},
   "outputs": [],
   "source": [
    "# Lidando com NAs\n",
    "df.target.fillna(0, inplace = True)\n",
    "df.dropna(axis = 0, inplace = True)\n",
    "df.drop(df[df.efeitos_desejados == 'N/C'].index, axis = 0, inplace = True)\n",
    "df.drop(df[df.procedimentos == 'N/C'].index, axis = 0, inplace = True)\n"
   ]
  },
  {
   "cell_type": "code",
   "execution_count": null,
   "metadata": {},
   "outputs": [],
   "source": [
    "# # Transformação de variáveis\n",
    "# [df.estado, codes_estado] = pd.factorize(df.estado)\n",
    "# [df.tipo_cabelo, codes_tipo_cabelo] = pd.factorize(df.tipo_cabelo)\n",
    "# [df.comprimento, codes_comprimento] = pd.factorize(df.comprimento)\n",
    "# [df.tipo_fios, codes_tipo_fios] = pd.factorize(df.tipo_fios)\n",
    "# [df.dieta, codes_dieta] = pd.factorize(df.dieta)\n",
    "# [df.atividade_fisica, codes_atividade_fisica] = pd.factorize(df.atividade_fisica)\n",
    "# [df.frequencia_estresse, codes_frequencia_estresse] = pd.factorize(df.frequencia_estresse)\n",
    "# [df.faixa_etaria, codes_faixa_etaria] = pd.factorize(df.faixa_etaria)\n",
    "# [df.fragancia, codes_fragancia] = pd.factorize(df.fragancia)"
   ]
  },
  {
   "cell_type": "code",
   "execution_count": null,
   "metadata": {},
   "outputs": [],
   "source": [
    "df['efeito1'] = 0\n",
    "df['efeito2'] = 0\n",
    "df['efeito3'] = 0\n",
    "df['efeito4'] = 0\n",
    "df['efeito5'] = 0\n",
    "df['efeito6'] = 0\n",
    "df['efeito7'] = 0\n",
    "df['efeito8'] = 0\n",
    "df['efeito10'] = 0\n",
    "\n",
    "df.loc[df['efeitos_desejados'].str.contains('Efeito 1'), 'efeito1'] = 1\n",
    "df.loc[df['efeitos_desejados'].str.contains('Efeito 2'), 'efeito2'] = 1\n",
    "df.loc[df['efeitos_desejados'].str.contains('Efeito 3'), 'efeito3'] = 1\n",
    "df.loc[df['efeitos_desejados'].str.contains('Efeito 4'), 'efeito4'] = 1\n",
    "df.loc[df['efeitos_desejados'].str.contains('Efeito 5'), 'efeito5'] = 1\n",
    "df.loc[df['efeitos_desejados'].str.contains('Efeito 6'), 'efeito6'] = 1\n",
    "df.loc[df['efeitos_desejados'].str.contains('Efeito 7'), 'efeito7'] = 1\n",
    "df.loc[df['efeitos_desejados'].str.contains('Efeito 8'), 'efeito8'] = 1\n",
    "df.loc[df['efeitos_desejados'].str.contains('Efeito 10'), 'efeito10'] = 1"
   ]
  },
  {
   "cell_type": "code",
   "execution_count": null,
   "metadata": {},
   "outputs": [],
   "source": [
    "df['procedimentos1'] = 0\n",
    "df['procedimentos2'] = 0\n",
    "df['procedimentos3'] = 0\n",
    "df['procedimentos4'] = 0\n",
    "df['procedimentos5'] = 0\n",
    "\n",
    "df.loc[df['procedimentos'].str.contains('Nenhum'), 'procedimentos1'] = 1\n",
    "df.loc[df['procedimentos'].str.contains('Tintura'), 'procedimentos2'] = 1\n",
    "df.loc[df['procedimentos'].str.contains('Corte agressivo'), 'procedimentos3'] = 1\n",
    "df.loc[df['procedimentos'].str.contains('Exposição ao sol'), 'procedimentos4'] = 1\n",
    "df.loc[df['procedimentos'].str.contains('Nenhum'), 'procedimentos5'] = 1"
   ]
  },
  {
   "cell_type": "code",
   "execution_count": null,
   "metadata": {},
   "outputs": [],
   "source": [
    "df.drop(['efeitos_desejados', 'procedimentos'], axis = 1, inplace=True)"
   ]
  },
  {
   "cell_type": "code",
   "execution_count": null,
   "metadata": {},
   "outputs": [],
   "source": [
    "coluna = df.pop('target')\n",
    "df = df.assign(target = coluna).astype('int64')"
   ]
  },
  {
   "cell_type": "code",
   "execution_count": null,
   "metadata": {},
   "outputs": [],
   "source": [
    "df.info()"
   ]
  },
  {
   "cell_type": "code",
   "execution_count": null,
   "metadata": {},
   "outputs": [],
   "source": []
  }
 ],
 "metadata": {
  "kernelspec": {
   "display_name": "Python 3.8.5 64-bit",
   "language": "python",
   "name": "python3"
  },
  "language_info": {
   "codemirror_mode": {
    "name": "ipython",
    "version": 3
   },
   "file_extension": ".py",
   "mimetype": "text/x-python",
   "name": "python",
   "nbconvert_exporter": "python",
   "pygments_lexer": "ipython3",
   "version": "3.8.5"
  },
  "orig_nbformat": 4,
  "vscode": {
   "interpreter": {
    "hash": "9b8ea942591382cb349c47f393817917b88af7f8f0c02d4ffa9a41f75aaebb44"
   }
  }
 },
 "nbformat": 4,
 "nbformat_minor": 2
}
